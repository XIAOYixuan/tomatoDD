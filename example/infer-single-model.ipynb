{
 "cells": [
  {
   "cell_type": "markdown",
   "metadata": {},
   "source": [
    "# Simple inference (WIP)\n",
    "\n",
    "If you don't want to use this codebase for running inference and only want to use a specific class in your own codebase for inference, this notebook offers an example solution.\n",
    " "
   ]
  }
 ],
 "metadata": {
  "language_info": {
   "name": "python"
  }
 },
 "nbformat": 4,
 "nbformat_minor": 2
}
